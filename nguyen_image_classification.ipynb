{
  "nbformat": 4,
  "nbformat_minor": 0,
  "metadata": {
    "colab": {
      "provenance": []
    },
    "kernelspec": {
      "name": "python3",
      "display_name": "Python 3"
    },
    "language_info": {
      "name": "python"
    }
  },
  "cells": [
    {
      "cell_type": "markdown",
      "source": [
        "## Introduction"
      ],
      "metadata": {
        "id": "Ws52yb5rn6tR"
      }
    },
    {
      "cell_type": "markdown",
      "source": [
        "\n",
        "\n",
        "*   This notebook sets up and trains a neural network to classify images into one of two categories: handwritten 4s and handwritten 9s.\n"
      ],
      "metadata": {
        "id": "1w4pUW5lrLln"
      }
    },
    {
      "cell_type": "markdown",
      "source": [
        "## Import libaries"
      ],
      "metadata": {
        "id": "ZFiMUmrtnmsQ"
      }
    },
    {
      "cell_type": "code",
      "execution_count": 39,
      "metadata": {
        "colab": {
          "base_uri": "https://localhost:8080/"
        },
        "id": "hKbFGcEdnd2b",
        "outputId": "5188588e-20d0-4153-ca47-830b38820661"
      },
      "outputs": [
        {
          "output_type": "stream",
          "name": "stdout",
          "text": [
            "Requirement already satisfied: keras_tuner in /usr/local/lib/python3.10/dist-packages (1.4.7)\n",
            "Requirement already satisfied: keras in /usr/local/lib/python3.10/dist-packages (from keras_tuner) (2.15.0)\n",
            "Requirement already satisfied: packaging in /usr/local/lib/python3.10/dist-packages (from keras_tuner) (24.0)\n",
            "Requirement already satisfied: requests in /usr/local/lib/python3.10/dist-packages (from keras_tuner) (2.31.0)\n",
            "Requirement already satisfied: kt-legacy in /usr/local/lib/python3.10/dist-packages (from keras_tuner) (1.0.5)\n",
            "Requirement already satisfied: charset-normalizer<4,>=2 in /usr/local/lib/python3.10/dist-packages (from requests->keras_tuner) (3.3.2)\n",
            "Requirement already satisfied: idna<4,>=2.5 in /usr/local/lib/python3.10/dist-packages (from requests->keras_tuner) (3.7)\n",
            "Requirement already satisfied: urllib3<3,>=1.21.1 in /usr/local/lib/python3.10/dist-packages (from requests->keras_tuner) (2.0.7)\n",
            "Requirement already satisfied: certifi>=2017.4.17 in /usr/local/lib/python3.10/dist-packages (from requests->keras_tuner) (2024.2.2)\n"
          ]
        }
      ],
      "source": [
        "!pip install keras_tuner"
      ]
    },
    {
      "cell_type": "code",
      "source": [
        "from PIL import Image\n",
        "from io import BytesIO\n",
        "import matplotlib.pyplot as plt\n",
        "import numpy as np\n",
        "import requests\n",
        "import keras\n",
        "import keras_tuner\n",
        "from keras import layers, regularizers\n",
        "from keras.optimizers.legacy import Adam\n",
        "from keras.callbacks import EarlyStopping, TensorBoard\n",
        "import json\n",
        "from sklearn.metrics import confusion_matrix"
      ],
      "metadata": {
        "id": "QyJ110I8njHq"
      },
      "execution_count": 40,
      "outputs": []
    },
    {
      "cell_type": "markdown",
      "source": [
        "## Loading in MNIST from Keras"
      ],
      "metadata": {
        "id": "IMj1kvZ2oRfV"
      }
    },
    {
      "cell_type": "markdown",
      "source": [
        "The data set for this notebook will consist of handwritten digits imported from Keras data set."
      ],
      "metadata": {
        "id": "2HWGsTQFxpVq"
      }
    },
    {
      "cell_type": "code",
      "source": [
        "from keras.datasets import mnist"
      ],
      "metadata": {
        "id": "LV4Z0ouUoS6p"
      },
      "execution_count": 41,
      "outputs": []
    },
    {
      "cell_type": "code",
      "source": [
        "(train_X, y_train), (test_X, y_test) = mnist.load_data()"
      ],
      "metadata": {
        "id": "pqiGwn5epblw"
      },
      "execution_count": 42,
      "outputs": []
    },
    {
      "cell_type": "markdown",
      "source": [
        "The MNIST dataset comes pre split into training and test sets."
      ],
      "metadata": {
        "id": "XZFkB4Mr0ZmO"
      }
    },
    {
      "cell_type": "markdown",
      "source": [
        "## Filter data"
      ],
      "metadata": {
        "id": "uygIVKV8rWyI"
      }
    },
    {
      "cell_type": "markdown",
      "source": [
        "We want to filter the data set to include only images of the digits 4 and 9."
      ],
      "metadata": {
        "id": "ajeTwdCp047O"
      }
    },
    {
      "cell_type": "code",
      "source": [
        "filtered_train = np.where((y_train == 4) | (y_train == 9))\n",
        "filtered_test = np.where((y_test == 4) | (y_test == 9))"
      ],
      "metadata": {
        "id": "OjUTq9skrXJ2"
      },
      "execution_count": 43,
      "outputs": []
    },
    {
      "cell_type": "code",
      "source": [
        "train_X, y_train = train_X[filtered_train], y_train[filtered_train]\n",
        "test_X, y_test = test_X[filtered_test], y_test[filtered_test]"
      ],
      "metadata": {
        "id": "aS2YksHorbpd"
      },
      "execution_count": 44,
      "outputs": []
    },
    {
      "cell_type": "markdown",
      "source": [
        "Now we have reduced our data set to contain what is relevant to this notebook."
      ],
      "metadata": {
        "id": "kblYU69O1LpU"
      }
    },
    {
      "cell_type": "markdown",
      "source": [
        "## View shape and images"
      ],
      "metadata": {
        "id": "Kr3HVMsmvdzf"
      }
    },
    {
      "cell_type": "markdown",
      "source": [
        " Look at the shapes of our training and test sets and visualize some of the images."
      ],
      "metadata": {
        "id": "1rVBTCjm1k3z"
      }
    },
    {
      "cell_type": "code",
      "source": [
        "print('X_train: ' + str(train_X.shape))\n",
        "print('Y_train: ' + str(y_train.shape))\n",
        "print('X_test:  '  + str(test_X.shape))\n",
        "print('Y_test:  '  + str(y_test.shape))"
      ],
      "metadata": {
        "colab": {
          "base_uri": "https://localhost:8080/"
        },
        "id": "jDqUIpHOritC",
        "outputId": "7a83706c-e9a9-4526-f6ef-108353998d64"
      },
      "execution_count": 45,
      "outputs": [
        {
          "output_type": "stream",
          "name": "stdout",
          "text": [
            "X_train: (11791, 28, 28)\n",
            "Y_train: (11791,)\n",
            "X_test:  (1991, 28, 28)\n",
            "Y_test:  (1991,)\n"
          ]
        }
      ]
    },
    {
      "cell_type": "code",
      "source": [
        "for i in range(3):\n",
        "  plt.subplot(330 + 1 + i)\n",
        "  plt.imshow(train_X[i], cmap=plt.get_cmap('gray'))\n",
        "  plt.show()\n",
        "  print(y_train[i])"
      ],
      "metadata": {
        "colab": {
          "base_uri": "https://localhost:8080/",
          "height": 536
        },
        "id": "-V3TI076rkwx",
        "outputId": "dbc5699d-1237-4f40-b55a-84e29a3e0ab1"
      },
      "execution_count": 46,
      "outputs": [
        {
          "output_type": "display_data",
          "data": {
            "text/plain": [
              "<Figure size 640x480 with 1 Axes>"
            ],
            "image/png": "[encoded data removed]"
          },
          "metadata": {}
        },
        {
          "output_type": "stream",
          "name": "stdout",
          "text": [
            "4\n"
          ]
        },
        {
          "output_type": "display_data",
          "data": {
            "text/plain": [
              "<Figure size 640x480 with 1 Axes>"
            ],
            "image/png": "[encoded data removed]"
          },
          "metadata": {}
        },
        {
          "output_type": "stream",
          "name": "stdout",
          "text": [
            "9\n"
          ]
        },
        {
          "output_type": "display_data",
          "data": {
            "text/plain": [
              "<Figure size 640x480 with 1 Axes>"
            ],
            "image/png": "[encoded data removed]"
          },
          "metadata": {}
        },
        {
          "output_type": "stream",
          "name": "stdout",
          "text": [
            "4\n"
          ]
        }
      ]
    },
    {
      "cell_type": "markdown",
      "source": [
        "After looking at the data, we can now reshape and normalize the images to prepare them for training our neural network."
      ],
      "metadata": {
        "id": "ysk4lyH51tcK"
      }
    },
    {
      "cell_type": "markdown",
      "source": [
        "## Flatten images"
      ],
      "metadata": {
        "id": "oocTfA_pr-I1"
      }
    },
    {
      "cell_type": "markdown",
      "source": [
        "We now reshape each image into a 1D vector."
      ],
      "metadata": {
        "id": "kplgOT_C2HMy"
      }
    },
    {
      "cell_type": "code",
      "source": [
        "train_X.shape"
      ],
      "metadata": {
        "colab": {
          "base_uri": "https://localhost:8080/"
        },
        "id": "zlEz4fwurmzX",
        "outputId": "16a715dc-2811-4f37-bd86-a76480540580"
      },
      "execution_count": 47,
      "outputs": [
        {
          "output_type": "execute_result",
          "data": {
            "text/plain": [
              "(11791, 28, 28)"
            ]
          },
          "metadata": {},
          "execution_count": 47
        }
      ]
    },
    {
      "cell_type": "code",
      "source": [
        "X_train = train_X.reshape(train_X.shape[0], -1)"
      ],
      "metadata": {
        "id": "3nE5G1Cbrt-9"
      },
      "execution_count": 48,
      "outputs": []
    },
    {
      "cell_type": "code",
      "source": [
        "print(X_train.shape)"
      ],
      "metadata": {
        "colab": {
          "base_uri": "https://localhost:8080/"
        },
        "id": "MBu1FIhEryHc",
        "outputId": "639f2548-0ca6-4084-f18f-753419d4bce7"
      },
      "execution_count": 49,
      "outputs": [
        {
          "output_type": "stream",
          "name": "stdout",
          "text": [
            "(11791, 784)\n"
          ]
        }
      ]
    },
    {
      "cell_type": "code",
      "source": [
        "X_test = test_X.reshape(test_X.shape[0], -1)"
      ],
      "metadata": {
        "id": "ajZtH8fYrzlh"
      },
      "execution_count": 50,
      "outputs": []
    },
    {
      "cell_type": "code",
      "source": [
        "X_test.shape"
      ],
      "metadata": {
        "colab": {
          "base_uri": "https://localhost:8080/"
        },
        "id": "iMZC57Errz4w",
        "outputId": "a9bafdd2-9708-4177-e5f1-dd4b18982757"
      },
      "execution_count": 51,
      "outputs": [
        {
          "output_type": "execute_result",
          "data": {
            "text/plain": [
              "(1991, 784)"
            ]
          },
          "metadata": {},
          "execution_count": 51
        }
      ]
    },
    {
      "cell_type": "markdown",
      "source": [
        "Reshaping the 2D image into a 1D vector makes it suitable to input into our neural network."
      ],
      "metadata": {
        "id": "ODmHxB6d2SEi"
      }
    },
    {
      "cell_type": "markdown",
      "source": [
        "## Normalization"
      ],
      "metadata": {
        "id": "mi_A5JrhruXN"
      }
    },
    {
      "cell_type": "markdown",
      "source": [
        "Normalize the features (the pixels) of image data."
      ],
      "metadata": {
        "id": "qEd2owjR20lA"
      }
    },
    {
      "cell_type": "code",
      "source": [
        "X_train_norm = X_train / 255\n",
        "X_test_norm = X_test / 255"
      ],
      "metadata": {
        "id": "2NUX5d7-r1aX"
      },
      "execution_count": 52,
      "outputs": []
    },
    {
      "cell_type": "markdown",
      "source": [
        "By dividing all pixels by the max pixel magnitude 255, we get values that are between [0, 1]."
      ],
      "metadata": {
        "id": "FodJnqsN3Dvq"
      }
    },
    {
      "cell_type": "markdown",
      "source": [
        "## Build model"
      ],
      "metadata": {
        "id": "wdzG8tywrgyS"
      }
    },
    {
      "cell_type": "markdown",
      "source": [
        "Define and build our neural network model."
      ],
      "metadata": {
        "id": "jhZZmPjZ3Qsx"
      }
    },
    {
      "cell_type": "code",
      "source": [
        "def define_model(units, num_layers, activation, lr, l2):\n",
        "    model_layers = [\n",
        "        layers.Dense(units, activation=activation, kernel_regularizer=regularizers.L2(l2=l2), kernel_initializer=keras.initializers.HeNormal())\n",
        "        ] * num_layers\n",
        "    model_layers += [layers.Dense(10)]\n",
        "    model = keras.Sequential(model_layers)\n",
        "    model.compile(loss=keras.losses.SparseCategoricalCrossentropy(from_logits=True), metrics=['accuracy'], optimizer=Adam(learning_rate=lr))\n",
        "\n",
        "    return model"
      ],
      "metadata": {
        "id": "RVDvIj_PsUaK"
      },
      "execution_count": 53,
      "outputs": []
    },
    {
      "cell_type": "code",
      "source": [
        "def build_model(hp):\n",
        "    units = hp.Choice(\"units\", [256, 512])\n",
        "    activation = \"relu\"\n",
        "    lr = hp.Float(\"lr\", min_value=1e-5, max_value=1e-1, sampling=\"log\")\n",
        "    l2 = hp.Float(\"l2\", min_value=1e-5, max_value=1e-1, sampling=\"log\")\n",
        "    num_layers = hp.Choice(\"num_layers\", [2, 3, 4])\n",
        "\n",
        "    model = define_model(units=units, num_layers=num_layers, activation=activation, lr=lr, l2=l2)\n",
        "    return model"
      ],
      "metadata": {
        "id": "7ZUjc2zxsU_j"
      },
      "execution_count": 54,
      "outputs": []
    },
    {
      "cell_type": "markdown",
      "source": [
        "The define_model function builds a Keras model with the same layer sizes and L2 regularization. The build_model function is passed to the tuner to find the best hyperparameters."
      ],
      "metadata": {
        "id": "KytOpeoK56rB"
      }
    },
    {
      "cell_type": "code",
      "source": [
        "from google.colab import drive\n",
        "drive.mount('/content/drive')"
      ],
      "metadata": {
        "colab": {
          "base_uri": "https://localhost:8080/"
        },
        "id": "92NL0QjOsXQw",
        "outputId": "cc87148f-0705-44bb-c299-310c91630ab8"
      },
      "execution_count": 55,
      "outputs": [
        {
          "output_type": "stream",
          "name": "stdout",
          "text": [
            "Drive already mounted at /content/drive; to attempt to forcibly remount, call drive.mount(\"/content/drive\", force_remount=True).\n"
          ]
        }
      ]
    },
    {
      "cell_type": "markdown",
      "source": [
        "## Parameter tuning with Bayesian Optimization"
      ],
      "metadata": {
        "id": "RFsMW1dZt3WZ"
      }
    },
    {
      "cell_type": "markdown",
      "source": [
        "Initializes the tuner object."
      ],
      "metadata": {
        "id": "vHQ3ZGEt6BKm"
      }
    },
    {
      "cell_type": "code",
      "source": [
        "tuner = keras_tuner.BayesianOptimization(\n",
        "    hypermodel=build_model,\n",
        "    objective=\"val_loss\",\n",
        "    max_trials=8,\n",
        "    executions_per_trial=1,\n",
        "    overwrite=False,\n",
        "    directory=\"/content/drive/MyDrive/image_classification\",\n",
        ")"
      ],
      "metadata": {
        "colab": {
          "base_uri": "https://localhost:8080/"
        },
        "id": "F_dw2IJSsZKc",
        "outputId": "a850671c-2edb-4ad3-ea90-fba2ccd28332"
      },
      "execution_count": 56,
      "outputs": [
        {
          "output_type": "stream",
          "name": "stdout",
          "text": [
            "Reloading Tuner from /content/drive/MyDrive/image_classification/untitled_project/tuner0.json\n"
          ]
        }
      ]
    },
    {
      "cell_type": "code",
      "source": [
        "callbacks = [EarlyStopping(monitor=\"val_loss\", patience=2, restore_best_weights=True, start_from_epoch=4)]"
      ],
      "metadata": {
        "id": "h2WLFotDsc20"
      },
      "execution_count": 57,
      "outputs": []
    },
    {
      "cell_type": "markdown",
      "source": [
        "The tuner is set to optimize the model based on validation loss, and early stopping is used to check whether the accuracy is still increasing."
      ],
      "metadata": {
        "id": "YktFUFUe7FV6"
      }
    },
    {
      "cell_type": "markdown",
      "source": [
        "## Best Model and Evaluation"
      ],
      "metadata": {
        "id": "aBPdz0PUuLnj"
      }
    },
    {
      "cell_type": "markdown",
      "source": [
        "Use the tuner to search for the best hyperparameters, and then evaluate the best model on the test data."
      ],
      "metadata": {
        "id": "u6oyYfpX8p6i"
      }
    },
    {
      "cell_type": "code",
      "source": [
        "tuner.search(\n",
        "    X_train_norm,\n",
        "    y_train,\n",
        "    epochs=8,\n",
        "    verbose=1,\n",
        "    validation_data=(X_test_norm, y_test),\n",
        "    callbacks=callbacks\n",
        ")"
      ],
      "metadata": {
        "id": "9fYUJuYoseMw"
      },
      "execution_count": 58,
      "outputs": []
    },
    {
      "cell_type": "code",
      "source": [
        "tuner.results_summary(5)"
      ],
      "metadata": {
        "colab": {
          "base_uri": "https://localhost:8080/"
        },
        "id": "ay1a4WRDtMtj",
        "outputId": "6a630c1b-7bd2-4525-e1f2-8603f51c63ab"
      },
      "execution_count": 59,
      "outputs": [
        {
          "output_type": "stream",
          "name": "stdout",
          "text": [
            "Results summary\n",
            "Results in /content/drive/MyDrive/image_classification/untitled_project\n",
            "Showing 5 best trials\n",
            "Objective(name=\"val_loss\", direction=\"min\")\n",
            "\n",
            "Trial 0 summary\n",
            "Hyperparameters:\n",
            "units: 512\n",
            "lr: 0.0007386457755165143\n",
            "l2: 0.00019497217747107664\n",
            "num_layers: 4\n",
            "Score: 0.05632062628865242\n",
            "\n",
            "Trial 3 summary\n",
            "Hyperparameters:\n",
            "units: 512\n",
            "lr: 0.0019647765700888434\n",
            "l2: 0.0016714322755079418\n",
            "num_layers: 4\n",
            "Score: 0.06839607656002045\n",
            "\n",
            "Trial 4 summary\n",
            "Hyperparameters:\n",
            "units: 256\n",
            "lr: 0.01775305777697317\n",
            "l2: 1.946571389816994e-05\n",
            "num_layers: 2\n",
            "Score: 0.0764264166355133\n",
            "\n",
            "Trial 6 summary\n",
            "Hyperparameters:\n",
            "units: 256\n",
            "lr: 5.401659824126282e-05\n",
            "l2: 5.5808138488127885e-05\n",
            "num_layers: 2\n",
            "Score: 0.08700831979513168\n",
            "\n",
            "Trial 2 summary\n",
            "Hyperparameters:\n",
            "units: 256\n",
            "lr: 0.01885595480835371\n",
            "l2: 0.000341579004974261\n",
            "num_layers: 2\n",
            "Score: 0.09689763933420181\n"
          ]
        }
      ]
    },
    {
      "cell_type": "code",
      "source": [
        "trial_num = \"0\"\n",
        "with open(f\"/content/drive/MyDrive/image_classification/untitled_project/trial_{trial_num}/trial.json\", \"r\") as f:\n",
        "    trial = json.load(f)\n",
        "hp = trial[\"hyperparameters\"][\"values\"]\n",
        "model = define_model(units=hp[\"units\"], num_layers=hp[\"num_layers\"], activation=\"relu\", lr=hp[\"lr\"],\n",
        "                     l2=hp[\"l2\"])\n",
        "model.load_weights(f\"/content/drive/MyDrive/image_classification/untitled_project/trial_{trial_num}/checkpoint\")"
      ],
      "metadata": {
        "colab": {
          "base_uri": "https://localhost:8080/"
        },
        "id": "nQECMd8XtNAZ",
        "outputId": "00dee96d-25a4-4a8f-efdc-16d0f9805725"
      },
      "execution_count": 60,
      "outputs": [
        {
          "output_type": "execute_result",
          "data": {
            "text/plain": [
              "<tensorflow.python.checkpoint.checkpoint.CheckpointLoadStatus at 0x7a5cb6988940>"
            ]
          },
          "metadata": {},
          "execution_count": 60
        }
      ]
    },
    {
      "cell_type": "code",
      "source": [
        "y_pred = np.argmax(model.predict(X_test_norm), axis=1)\n",
        "cm = confusion_matrix(y_test, y_pred)\n",
        "accuracy = sum(y_pred == y_test) / len(y_test)\n",
        "print(accuracy)\n",
        "print(cm)"
      ],
      "metadata": {
        "colab": {
          "base_uri": "https://localhost:8080/"
        },
        "id": "bIiPKOGctkJG",
        "outputId": "fd4bd6d5-341d-4bf8-93b7-beb4495da7e1"
      },
      "execution_count": 61,
      "outputs": [
        {
          "output_type": "stream",
          "name": "stdout",
          "text": [
            "63/63 [==============================] - 0s 4ms/step\n",
            "0.9904570567553993\n",
            "[[ 972   10]\n",
            " [   9 1000]]\n"
          ]
        }
      ]
    },
    {
      "cell_type": "markdown",
      "source": [
        "The best model was number 0 so it was used to make our predictions. Our model had an accuracy of 99.05% when categorizing handwritten 4s and 9s."
      ],
      "metadata": {
        "id": "m-msw8TA86qQ"
      }
    },
    {
      "cell_type": "markdown",
      "source": [
        "## Conclusion"
      ],
      "metadata": {
        "id": "s0kTuYw8u_Zj"
      }
    },
    {
      "cell_type": "markdown",
      "source": [
        "* Using the MNIST dataset, we built and trained a neural network to categorize handwritten 4s and 9s. We optimized our model by finding the best hyperparameters and then applying the model to our test set. This resulted in a 99.05% accuracy, showing the effectiveness of the model."
      ],
      "metadata": {
        "id": "aOLJCEac-hFI"
      }
    }
  ]
}